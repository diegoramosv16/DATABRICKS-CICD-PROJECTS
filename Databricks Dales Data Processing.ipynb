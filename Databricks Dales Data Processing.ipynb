{
 "cells": [
  {
   "cell_type": "code",
   "execution_count": 0,
   "metadata": {
    "application/vnd.databricks.v1+cell": {
     "cellMetadata": {
      "byteLimit": 2048000,
      "rowLimit": 10000
     },
     "inputWidgets": {},
     "nuid": "bb190b7e-0e71-44ee-b4be-fdfb6195d489",
     "showTitle": false,
     "tableResultSettingsMap": {},
     "title": ""
    }
   },
   "outputs": [],
   "source": [
    "from pyspark.sql.types import StructType, StructField, StringType, IntegerType, DoubleType, DateType\n",
    "from pyspark.sql import Row\n",
    "from datetime import datetime\n",
    "\n",
    "# Define schema\n",
    "sales_schema = StructType([\n",
    "    StructField(\"OrderID\", StringType(), False),\n",
    "    StructField(\"OrderDate\", DateType(), False),\n",
    "    StructField(\"Region\", StringType(), True),\n",
    "    StructField(\"Product\", StringType(), False),\n",
    "    StructField(\"Category\", StringType(), False),\n",
    "    StructField(\"Price\", DoubleType(), False),\n",
    "    StructField(\"Quantity\", IntegerType(), False)\n",
    "])\n",
    "\n",
    "# Sample data\n",
    "sales_data = [\n",
    "    (\"ORD009\", datetime(2022, 1, 10), \"West\", \"iPhone 15\", \"Electronics\", 1099.99, 3),\n",
    "    (\"ORD010\", datetime(2022, 2, 18), \"East\", \"MacBook Pro\", \"Electronics\", 1999.99, 1),\n",
    "    (\"ORD011\", datetime(2022, 3, 6), \"South\", \"Ergonomic Chair\", \"Furniture\", 179.99, 2),\n",
    "    (\"ORD012\", datetime(2022, 4, 20), \"North\", \"4K Monitor\", \"Electronics\", 329.99, 2),\n",
    "    (\"ORD013\", datetime(2022, 5, 27), \"West\", \"Standing Desk\", \"Furniture\", 499.99, 1),\n",
    "    (\"ORD014\", datetime(2022, 6, 15), \"East\", \"iPad Pro\", \"Electronics\", 899.99, 2),\n",
    "    (\"ORD015\", datetime(2022, 7, 23), \"South\", \"Corner Bookshelf\", \"Furniture\", 249.99, 3),\n",
    "    (\"ORD016\", datetime(2022, 8, 12), \"North\", \"Laser Printer\", \"Electronics\", 199.99, 1),\n",
    "    (\"ORD001\", datetime(2023, 1, 15), \"West\", \"iPhone 14\", \"Electronics\", 999.99, 2),\n",
    "    (\"ORD002\", datetime(2023, 2, 20), \"East\", \"MacBook Air\", \"Electronics\", 1199.49, 1),\n",
    "    (\"ORD003\", datetime(2023, 3, 5), \"South\", \"Desk Chair\", \"Furniture\", 149.99, 4),\n",
    "    (\"ORD004\", datetime(2023, 4, 17), \"North\", \"Monitor\", \"Electronics\", 249.99, 2),\n",
    "    (\"ORD005\", datetime(2023, 5, 30), \"West\", \"Office Desk\", \"Furniture\", 399.99, 1),\n",
    "    (\"ORD006\", datetime(2023, 6, 12), \"East\", \"iPad\", \"Electronics\", 499.99, 3),\n",
    "    (\"ORD007\", datetime(2023, 7, 25), \"South\", \"Bookshelf\", \"Furniture\", 199.99, 2),\n",
    "    (\"ORD008\", datetime(2023, 8, 8), \"North\", \"Printer\", \"Electronics\", 149.49, 1),\n",
    "]\n",
    "\n",
    "# Create DataFrame\n",
    "sales_df = spark.createDataFrame(data=sales_data, schema=sales_schema)\n",
    "\n",
    "\n"
   ]
  },
  {
   "cell_type": "code",
   "execution_count": 0,
   "metadata": {
    "application/vnd.databricks.v1+cell": {
     "cellMetadata": {
      "byteLimit": 2048000,
      "rowLimit": 10000
     },
     "inputWidgets": {},
     "nuid": "efa0eb0e-30fa-4f1c-9bbc-af6580ed0b06",
     "showTitle": false,
     "tableResultSettingsMap": {},
     "title": ""
    }
   },
   "outputs": [],
   "source": [
    "\n",
    "\n",
    "# Data Transformation\n",
    "from pyspark.sql.functions import year, month, col, expr\n",
    "\n",
    "sales_transformed = (\n",
    "    sales_df.withColumn(\"Year\", year(col(\"OrderDate\")))\n",
    "            .withColumn(\"Month\", month(col(\"OrderDate\")))\n",
    "            .withColumn(\"SalesAmount\", expr(\"Price * Quantity\"))\n",
    ")\n",
    "\n",
    "\n",
    "\n"
   ]
  },
  {
   "cell_type": "code",
   "execution_count": 0,
   "metadata": {
    "application/vnd.databricks.v1+cell": {
     "cellMetadata": {},
     "inputWidgets": {},
     "nuid": "89aae097-59ea-480a-9bdc-d4ef7e1ceeaf",
     "showTitle": false,
     "tableResultSettingsMap": {},
     "title": ""
    }
   },
   "outputs": [],
   "source": [
    "\n",
    "# Aggregation\n",
    "\n",
    "sales_summary = (\n",
    "    sales_transformed.groupBy(\"Region\", \"Category\")\n",
    "                     .sum(\"SalesAmount\")\n",
    "                     .withColumnRenamed(\"sum(SalesAmount)\", \"TotalSales\")\n",
    "                     .orderBy(\"Region\", \"Category\")\n",
    ")\n",
    "\n",
    "sales_summary.display()"
   ]
  },
  {
   "cell_type": "code",
   "execution_count": 0,
   "metadata": {
    "application/vnd.databricks.v1+cell": {
     "cellMetadata": {},
     "inputWidgets": {},
     "nuid": "425e79a5-520d-464c-b475-f56149ed2178",
     "showTitle": false,
     "tableResultSettingsMap": {},
     "title": ""
    }
   },
   "outputs": [],
   "source": [
    "# Save as Delta Table (overwrite mode)\n",
    "sales_transformed.write.format(\"delta\").mode(\"overwrite\").saveAsTable(\"<uc-schema-table-names>\")"
   ]
  }
 ],
 "metadata": {
  "application/vnd.databricks.v1+notebook": {
   "computePreferences": {
    "hardware": {
     "accelerator": null,
     "gpuPoolId": null,
     "memory": null
    }
   },
   "dashboards": [],
   "environmentMetadata": {
    "base_environment": "",
    "environment_version": "2"
   },
   "inputWidgetPreferences": null,
   "language": "python",
   "notebookMetadata": {
    "pythonIndentUnit": 4
   },
   "notebookName": "Databricks Dales Data Processing",
   "widgets": {}
  },
  "language_info": {
   "name": "python"
  }
 },
 "nbformat": 4,
 "nbformat_minor": 0
}
